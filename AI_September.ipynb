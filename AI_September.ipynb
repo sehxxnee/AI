{
  "nbformat": 4,
  "nbformat_minor": 0,
  "metadata": {
    "colab": {
      "provenance": [],
      "authorship_tag": "ABX9TyMAnOedGessx4MghKle4Ls8",
      "include_colab_link": true
    },
    "kernelspec": {
      "name": "python3",
      "display_name": "Python 3"
    },
    "language_info": {
      "name": "python"
    }
  },
  "cells": [
    {
      "cell_type": "markdown",
      "metadata": {
        "id": "view-in-github",
        "colab_type": "text"
      },
      "source": [
        "<a href=\"https://colab.research.google.com/github/sehxxnee/AI/blob/main/AI_September.ipynb\" target=\"_parent\"><img src=\"https://colab.research.google.com/assets/colab-badge.svg\" alt=\"Open In Colab\"/></a>"
      ]
    },
    {
      "cell_type": "markdown",
      "source": [
        "#BFS(너비 우선 탐색)\n",
        "\n",
        "\n",
        "---\n",
        "\n",
        "후속 노드로 확장되기 전에 모든 이웃 노드로 확장한다.\n",
        "\n"
      ],
      "metadata": {
        "id": "wiSlrm6j39Yd"
      }
    },
    {
      "cell_type": "code",
      "execution_count": null,
      "metadata": {
        "colab": {
          "base_uri": "https://localhost:8080/"
        },
        "id": "bc4bHiMvyoon",
        "outputId": "d54a8596-0aa9-4bdb-d0b0-a27feedd6722"
      },
      "outputs": [
        {
          "output_type": "stream",
          "name": "stdout",
          "text": [
            "Breadth-First Search\n",
            "1 2 3 4 5 6 7 "
          ]
        }
      ],
      "source": [
        "graph = {\n",
        "    '1' : ['2', '3', '4'],\n",
        "    '2' : ['5'],\n",
        "    '3' : ['6'],\n",
        "    '4' : ['6'],\n",
        "    '5' : ['7'],\n",
        "    '6' : ['7'],\n",
        "    '7' : []\n",
        "}\n",
        "\n",
        "visited = []\n",
        "queue = []\n",
        "\n",
        "def bfs(visited, graph, node):\n",
        "  visited.append(node)\n",
        "  queue.append(node)\n",
        "  while queue: #visit each node\n",
        "    m = queue.pop(0)\n",
        "    print(m, end = \" \")\n",
        "    for neighbour in graph[m]:\n",
        "      if neighbour not in visited:\n",
        "        visited.append(neighbour)\n",
        "        queue.append(neighbour)\n",
        "print(\"Breadth-First Search\")\n",
        "bfs(visited, graph, '1')"
      ]
    },
    {
      "cell_type": "code",
      "source": [
        "import networkx as nx\n",
        "import matplotlib.pyplot as plt\n",
        "def bfs(visited, graph, node):\n",
        "  visited.append(node)\n",
        "  queue.append(node)\n",
        "  while queue:\n",
        "    m = queue.pop(0)\n",
        "    for neighbour in graph[m]:\n",
        "      if neighbour not in visited:\n",
        "        visited.append(neighbour)\n",
        "        queue.append(neighbour)\n",
        "\n",
        "G=nx.Graph()\n",
        "edges = [('S', 'A'), ('S', 'B'), ('A', 'C'), ('A', 'D'), ('B', 'G'), ('B', 'H'), ('C', 'E'),('C', 'F'), ('G', 'I'), ('E', 'K')]\n",
        "G.add_edges_from(edges)\n",
        "visited = []\n",
        "queue = []\n",
        "bfs(visited, G, 'S')\n",
        "pos = nx.nx_pydot.graphviz_layout(G, prog='dot')\n",
        "nx.draw(G, pos, with_labels=True, node_size = 600, node_color = 'skyblue')\n",
        "nx.draw_networkx_edges(G, pos, edgelist=G.edges(), edge_color = 'gray')\n",
        "highlighted_edges = [(visited[i], visited[i+1]) for i in range(len(visited)-1)]\n",
        "nx.draw_networkx_edges(G, pos, edgelist=highlighted_edges, edge_color = 'blue', width=2)\n",
        "print(f\"\\nThe path from S to K is: {'->'.join(visited)}\")"
      ],
      "metadata": {
        "colab": {
          "base_uri": "https://localhost:8080/",
          "height": 552
        },
        "id": "7NQnfxtBy5rI",
        "outputId": "33ed065f-c418-4ba8-e7d7-9bcaf98dd1f6"
      },
      "execution_count": null,
      "outputs": [
        {
          "output_type": "stream",
          "name": "stdout",
          "text": [
            "\n",
            "The path from S to K is: S->A->B->C->D->G->H->E->F->I->K\n"
          ]
        },
        {
          "output_type": "display_data",
          "data": {
            "text/plain": [
              "<Figure size 640x480 with 1 Axes>"
            ],
            "image/png": "[encoded data removed]"
          },
          "metadata": {}
        }
      ]
    },
    {
      "cell_type": "markdown",
      "source": [
        "# DFS (깊이 우선 탐색)\n",
        "\n",
        "---\n",
        "가장 깊은 노드를 먼저 확장한다.\n"
      ],
      "metadata": {
        "id": "ZWSFedUV34Df"
      }
    },
    {
      "cell_type": "code",
      "source": [
        "\n",
        "import networkx as nx\n",
        "import matplotlib.pyplot as plt\n",
        "\n",
        "def dfs(visited, graph, node):\n",
        "    if node not in visited:\n",
        "        visited.append(node)\n",
        "        for neighbour in graph[node]:\n",
        "            dfs(visited, graph, neighbour)\n",
        "\n",
        "# 그래프 생성\n",
        "G = nx.Graph()\n",
        "edges = [('S', 'A'), ('S', 'H'), ('A', 'B'), ('A', 'C'), ('B', 'D'),\n",
        "         ('B', 'E'), ('C', 'G'), ('H', 'I'), ('H', 'J'), ('I','K')]\n",
        "G.add_edges_from(edges)\n",
        "\n",
        "# DFS 탐색\n",
        "visited = []\n",
        "dfs(visited, G, 'S')\n",
        "\n",
        "# 그래프 그리기\n",
        "pos = nx.nx_pydot.graphviz_layout(G, prog='dot')\n",
        "nx.draw(G, pos, with_labels=True, node_size=500, node_color='skyblue')\n",
        "nx.draw_networkx_edges(G, pos, edgelist=G.edges(), edge_color='gray')\n",
        "\n",
        "# 탐색 경로 하이라이트\n",
        "highlighted_edges = [(visited[i], visited[i + 1]) for i in range(len(visited) - 1)]\n",
        "nx.draw_networkx_edges(G, pos, edgelist=highlighted_edges, edge_color='blue', width=2)\n",
        "\n",
        "# 결과 출력\n",
        "print(f\"The path from S to K is: {' -> '.join(visited)}\")\n",
        "\n",
        "plt.show()"
      ],
      "metadata": {
        "colab": {
          "base_uri": "https://localhost:8080/",
          "height": 534
        },
        "id": "o93NcRFBy6UC",
        "outputId": "ab6c1b29-4048-4fb2-ecef-939278c53070"
      },
      "execution_count": null,
      "outputs": [
        {
          "output_type": "stream",
          "name": "stdout",
          "text": [
            "The path from S to K is: S -> A -> B -> D -> E -> C -> G -> H -> I -> K -> J\n"
          ]
        },
        {
          "output_type": "display_data",
          "data": {
            "text/plain": [
              "<Figure size 640x480 with 1 Axes>"
            ],
            "image/png": "[encoded data removed]"
          },
          "metadata": {}
        }
      ]
    },
    {
      "cell_type": "code",
      "source": [
        "#DFS\n",
        "\n",
        "graph = {\n",
        "    '1':['2', '3', '4'],\n",
        "    '2' : ['5'],\n",
        "    '3' : ['6'],\n",
        "    '4' : ['6'],\n",
        "    '5' : ['7'],\n",
        "    '6' : ['7'],\n",
        "    '7' : []\n",
        "}\n",
        "\n",
        "visited = set()\n",
        "\n",
        "def dfs (visited, graph, node):\n",
        "    if node not in visited:\n",
        "        print(node)\n",
        "        visited.add(node)\n",
        "        for neighbour in graph[node]:\n",
        "            dfs(visited, graph, neighbour)\n",
        "\n",
        "print(\"Following is the Depth-First Search \")\n",
        "dfs(visited, graph, '1')"
      ],
      "metadata": {
        "colab": {
          "base_uri": "https://localhost:8080/"
        },
        "id": "XCJU2d-zy8Pk",
        "outputId": "f2070dc5-5adf-40d7-9294-50213a8529bc"
      },
      "execution_count": null,
      "outputs": [
        {
          "output_type": "stream",
          "name": "stdout",
          "text": [
            "Following is the Depth-First Search \n",
            "1\n",
            "2\n",
            "5\n",
            "7\n",
            "3\n",
            "6\n",
            "4\n"
          ]
        }
      ]
    },
    {
      "cell_type": "code",
      "source": [
        "# 그래프 정의\n",
        "graph = {\n",
        "    'A': ['B', 'C'],\n",
        "    'B': ['D', 'E'],\n",
        "    'C': ['G'],\n",
        "    'D': [],\n",
        "    'E': ['F'],\n",
        "    'F': []\n",
        "}\n",
        "\n",
        "path = []  # 경로를 저장할 리스트\n",
        "\n",
        "# DFS 함수 정의\n",
        "def DFS(currentNode, destination, graph, maxDepth, curList):\n",
        "    print(f\"Checking for destination: {currentNode}\")\n",
        "    curList.append(currentNode)\n",
        "\n",
        "    if currentNode == destination:\n",
        "        path.append(list(curList))\n",
        "        return True\n",
        "\n",
        "    if maxDepth <= 0:\n",
        "        path.append(list(curList))\n",
        "        return False\n",
        "\n",
        "    for node in graph[currentNode]:\n",
        "        if DFS(node, destination, graph, maxDepth - 1, curList):\n",
        "            return True\n",
        "        curList.pop()  # 백트래킹\n",
        "\n",
        "    return False\n",
        "\n",
        "# 반복적인 깊이 제한 DFS 함수 정의\n",
        "def iterativeDDFS(currentNode, destination, graph, maxDepth):\n",
        "    for depth in range(maxDepth + 1):  # maxDepth까지 탐색\n",
        "        curList = []\n",
        "        if DFS(currentNode, destination, graph, depth, curList):\n",
        "            return True\n",
        "    return False\n",
        "\n",
        "# 함수 실행 및 결과 출력\n",
        "if not iterativeDDFS('A', 'G', graph, 4):\n",
        "    print(\"Path is not available\")\n",
        "else:\n",
        "    print(\"A path exists\")\n",
        "    print(\"Path:\", path)"
      ],
      "metadata": {
        "colab": {
          "base_uri": "https://localhost:8080/"
        },
        "id": "3RUYc0B7y82W",
        "outputId": "d8efb57b-a80f-43b5-9097-3df12fbc7bcf"
      },
      "execution_count": null,
      "outputs": [
        {
          "output_type": "stream",
          "name": "stdout",
          "text": [
            "Checking for destination: A\n",
            "Checking for destination: A\n",
            "Checking for destination: B\n",
            "Checking for destination: C\n",
            "Checking for destination: A\n",
            "Checking for destination: B\n",
            "Checking for destination: D\n",
            "Checking for destination: E\n",
            "Checking for destination: C\n",
            "Checking for destination: G\n",
            "A path exists\n",
            "Path: [['A'], ['A', 'B'], ['A', 'C'], ['A', 'B', 'D'], ['A', 'B', 'E'], ['A', 'C', 'G']]\n"
          ]
        }
      ]
    },
    {
      "cell_type": "markdown",
      "source": [
        "#Uniform Cost Search (균일 비용 탐색)\n",
        "출발 노드에서 목표 노드까지의 최소 비용 경로를 찾기 위한 방식"
      ],
      "metadata": {
        "id": "lR_wSjDr0WpJ"
      }
    },
    {
      "cell_type": "code",
      "source": [
        "import heapq\n",
        "\n",
        "class Node:\n",
        "    def __init__(self, name, cost):\n",
        "        self.name = name\n",
        "        self.cost = cost\n",
        "\n",
        "    def __lt__(self, other):\n",
        "        return self.cost < other.cost\n",
        "\n",
        "def uniform_cost_search(graph, start, goal):\n",
        "    visited = set()\n",
        "    priority_queue = [(0, Node(start, 0))]  # 초기 비용 0 설정\n",
        "    while priority_queue:\n",
        "        cost, current_node = heapq.heappop(priority_queue)\n",
        "\n",
        "        if current_node.name in visited:\n",
        "            continue\n",
        "        visited.add(current_node.name)\n",
        "\n",
        "        # 목표 노드에 도달하면 비용 반환\n",
        "        if current_node.name == goal:\n",
        "            return cost\n",
        "\n",
        "        # 인접 노드 탐색\n",
        "        for neighbor, neighbor_cost in graph[current_node.name]:\n",
        "            if neighbor not in visited:\n",
        "                heapq.heappush(priority_queue, (cost + neighbor_cost, Node(neighbor, cost + neighbor_cost)))\n",
        "\n",
        "    # 목표 노드로 가는 경로가 없을 때\n",
        "    return float('inf')\n",
        "\n",
        "# 그래프 예시\n",
        "graph = {\n",
        "    'S': [('A', 1), ('B', 4)],\n",
        "    'A': [('C', 3), ('D', 2)],\n",
        "    'B': [('G', 5)],\n",
        "    'C': [('E', 5)],\n",
        "    'D': [('G', 5)],\n",
        "    'E': [('G', 3)]\n",
        "}\n",
        "\n",
        "start_node = 'S'\n",
        "goal_node = 'G'\n",
        "\n",
        "result = uniform_cost_search(graph, start_node, goal_node)\n",
        "if result != float('inf'):\n",
        "    print(f\"The cost of the cheapest path from {start_node} to {goal_node} is {result}\")\n",
        "else:\n",
        "    print(f\"There is no path from {start_node} to {goal_node}\")"
      ],
      "metadata": {
        "colab": {
          "base_uri": "https://localhost:8080/"
        },
        "id": "hVWxtYYZy_Jp",
        "outputId": "e89c2afb-0e69-4a1c-fe2d-36f877fa341c"
      },
      "execution_count": null,
      "outputs": [
        {
          "output_type": "stream",
          "name": "stdout",
          "text": [
            "The cost of the cheapest path from S to G is 8\n"
          ]
        }
      ]
    },
    {
      "cell_type": "markdown",
      "source": [
        "##Greedy Search"
      ],
      "metadata": {
        "id": "wk9JXPmOGCbv"
      }
    },
    {
      "cell_type": "code",
      "source": [
        "def greedy(graph, H_table, start, goal):\n",
        "  visited=set()\n",
        "  path=[]\n",
        "  current_node= start\n",
        "  while current_node !=goal:\n",
        "    path.append(current_node)\n",
        "    visited.add(current_node)\n",
        "    neighbors=graph[current_node]\n",
        "    if not neighbors:\n",
        "      return None\n",
        "    next_node= min(neighbors,key=lambda x: H_table[x[0]])\n",
        "    current_node=next_node[0]\n",
        "    if current_node in visited:\n",
        "      return None\n",
        "  path.append(goal)\n",
        "  return path\n",
        "\n",
        "graph = {\n",
        "    'S' : [('A',3), ('B', 2)],\n",
        "    'A' : [('C', 4), ('D',1)],\n",
        "    'B' : [('E',3), ('F',1)],\n",
        "    'E' : [('H', 5)],\n",
        "    'F' : [('I',2), ('G', 3)],\n",
        "}\n",
        "\n",
        "H_table={\n",
        "    'S' : 12,\n",
        "    'A' : 4,\n",
        "    'B' : 2,9,\n",
        "    'C' : 4,\n",
        "    'D' : 7,\n",
        "    'E' :\n",
        "    'F' :\n",
        "}]"
      ],
      "metadata": {
        "id": "WezRpNWtGEtD"
      },
      "execution_count": null,
      "outputs": []
    },
    {
      "cell_type": "code",
      "source": [
        "import heapq\n",
        "\n",
        "def astar(graph, H_table, start, goal):\n",
        "  open_list=[(0, start, [])]\n",
        "  closed_set=set()\n",
        "  while open_list:\n",
        "    f, current_node, path, heapq.heappop(open_list)\n",
        "    if current_node--goal:\n",
        "      return path+[current_node]\n",
        "    closed_set.add(current_node)\n",
        "    for neighbor, cost in graph[current_node]:\n",
        "      if neighbor not in closed_set:\n",
        "        g=f-H_table[current_node]+cost+H_table[neighbor]\n",
        "        heapq.heappush(open_list, (g, neighbor, path+[current_node]))\n",
        "  return None\n",
        "\n",
        "graph = {\n",
        "    'S' : [('A',1), ('G', 10)],\n",
        "    'A' : [('B', 2), ('C',1)],\n",
        "    'B' : [('D', 5)],\n",
        "    'C' : [('D',3), ('G',4)],\n",
        "}\n",
        "\n",
        "H_table={\n",
        "    'A' : 3,\n",
        "    'B' : 4,\n",
        "    'C' : 2,\n",
        "    'D' : 6,\n",
        "    'S' :5,\n",
        "    'G' 0:\n",
        "}]"
      ],
      "metadata": {
        "id": "7YVsmPYlIvkU"
      },
      "execution_count": null,
      "outputs": []
    },
    {
      "cell_type": "code",
      "source": [
        "A_STAR 알고리즘\n",
        "\n",
        "DISTANCE WITH MY COUNTRY -> 인터넷 검색해서 바꿔쓰기\n",
        "\n",
        "ASSIGNMENT : NAVIGATION"
      ],
      "metadata": {
        "id": "xhTpE4U0LqFA"
      },
      "execution_count": null,
      "outputs": []
    }
  ]
}
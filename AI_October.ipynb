{
  "nbformat": 4,
  "nbformat_minor": 0,
  "metadata": {
    "colab": {
      "provenance": [],
      "authorship_tag": "ABX9TyO0/B5iUyQBXq8TXXSy8YZu",
      "include_colab_link": true
    },
    "kernelspec": {
      "name": "python3",
      "display_name": "Python 3"
    },
    "language_info": {
      "name": "python"
    }
  },
  "cells": [
    {
      "cell_type": "markdown",
      "metadata": {
        "id": "view-in-github",
        "colab_type": "text"
      },
      "source": [
        "<a href=\"https://colab.research.google.com/github/sehxxnee/AI/blob/main/AI_October.ipynb\" target=\"_parent\"><img src=\"https://colab.research.google.com/assets/colab-badge.svg\" alt=\"Open In Colab\"/></a>"
      ]
    },
    {
      "cell_type": "code",
      "execution_count": null,
      "metadata": {
        "id": "62WiG56hLlio"
      },
      "outputs": [],
      "source": [
        "tree=[[3,12,8],[2,4,6],[14,5,2]]"
      ]
    },
    {
      "cell_type": "code",
      "source": [
        "root = 0\n",
        "pruned=0\n",
        "visited=0"
      ],
      "metadata": {
        "id": "lsxamkqZLwyH"
      },
      "execution_count": null,
      "outputs": []
    },
    {
      "cell_type": "code",
      "source": [
        "def children(branch, depth, alpha, beta):\n",
        "    global tree\n",
        "    global root\n",
        "    global pruned\n",
        "    global visited\n",
        "\n",
        "    i = 0\n",
        "\n",
        "    for child in branch:\n",
        "        if type(child) is list:\n",
        "            (ralpha, rbeta) = children(child, depth + 1, alpha, beta)\n",
        "            if depth % 2 == 1:\n",
        "                beta = ralpha if ralpha < beta else beta\n",
        "            else:\n",
        "                alpha = rbeta if rbeta > alpha else alpha\n",
        "            branch[i] = alpha if depth % 2 == 0 else beta\n",
        "            visited += 1\n",
        "        else:\n",
        "            if depth % 2 == 0 and alpha < child:\n",
        "                alpha = child\n",
        "            if depth % 2 == 1 and beta > child:\n",
        "                beta = child\n",
        "            if alpha >= beta:\n",
        "                pruned += 1\n",
        "                break\n",
        "        i += 1\n",
        "\n",
        "    if depth == root:\n",
        "        tree = alpha if depth % 2 == 0 else beta\n",
        "        visited += 1\n",
        "\n",
        "    return (alpha, beta)\n",
        "\n",
        "\n",
        "tree = None\n",
        "root = 0\n",
        "pruned = 0\n",
        "visited = 0\n",
        "\n",
        "branch = [\n",
        "    [3, 5, [2, 9]],\n",
        "    [1, [6, 4], 7]\n",
        "]\n",
        "\n",
        "alpha = float('-inf')\n",
        "beta = float('inf')\n",
        "\n",
        "result = children(branch, root, alpha, beta)\n",
        "\n",
        "print(\"Alpha-Beta Result:\", result)\n",
        "print(\"Pruned Branches:\", pruned)\n",
        "print(\"Visited Nodes:\", visited)\n",
        "print(\"Tree Value:\", tree)\n"
      ],
      "metadata": {
        "colab": {
          "base_uri": "https://localhost:8080/"
        },
        "id": "JBEqdKUcL12s",
        "outputId": "095643d5-4cd3-4126-b4fa-184799513f1f"
      },
      "execution_count": null,
      "outputs": [
        {
          "output_type": "stream",
          "name": "stdout",
          "text": [
            "Alpha-Beta Result: (3, inf)\n",
            "Pruned Branches: 2\n",
            "Visited Nodes: 4\n",
            "Tree Value: 3\n"
          ]
        }
      ]
    },
    {
      "cell_type": "code",
      "source": [
        "import numpy as np\n",
        "import matplotlib.pyplot as plt\n",
        "\n",
        "def gaussian_mf(x, mean, sigma):\n",
        "    return np.exp(-0.5 * ((x - mean) / sigma) ** 2)\n",
        "\n",
        "x = np.linspace(0, 10, 100)\n",
        "mean = 5\n",
        "sigma_umf = 1.5\n",
        "sigma_lmf = 0.8\n",
        "umf = gaussian_mf(x, mean, sigma_umf)\n",
        "lmf = gaussian_mf(x, mean, sigma_lmf)\n",
        "\n",
        "plt.plot(x, umf, 'r-', label='Upper Membership Function (UMF)')\n",
        "plt.plot(x, lmf, 'b-', label='Lower Membership Function (LMF)')\n",
        "plt.fill_between(x, lmf, umf, color='gray', alpha=0.3, label='FOU (Footprint of Uncertainty)')\n",
        "plt.title('Type-2 Fuzzy Membership Function (Gaussian)')\n",
        "plt.xlabel('x')\n",
        "plt.ylabel('Membership Degree')\n",
        "plt.legend()\n",
        "plt.grid(True)\n",
        "plt.show()\n"
      ],
      "metadata": {
        "id": "lKKjLWGZWv9G",
        "colab": {
          "base_uri": "https://localhost:8080/",
          "height": 472
        },
        "outputId": "2822e6e5-df45-4836-b929-d9366fe33513"
      },
      "execution_count": null,
      "outputs": [
        {
          "output_type": "display_data",
          "data": {
            "text/plain": [
              "<Figure size 640x480 with 1 Axes>"
            ],
            "image/png": "[encoded data removed]"
          },
          "metadata": {}
        }
      ]
    },
    {
      "cell_type": "code",
      "source": [
        "F1 = {'a': 0.2, 'b': 0.5, 'c': 0.8}\n",
        "F2 = {'x': 0.3, 'y': 0.7, 'z': 0.4}\n",
        "import numpy as np\n",
        "R = [[] for i in range(len(F1))]\n",
        "i = 0\n",
        "for F1_key in F1:\n",
        "    for F2_key in F2:\n",
        "        R[i].append(min(F1[F1_key], F2[F2_key]))\n",
        "    i += 1\n",
        "\n",
        "print(\"Cartesian product of Fuzzy sets F1 and F2 is:\")\n",
        "print(np.array(R))"
      ],
      "metadata": {
        "colab": {
          "base_uri": "https://localhost:8080/"
        },
        "id": "zsKtd8W9Mumm",
        "outputId": "221c442f-8c3e-43f8-a009-da4b40547e10"
      },
      "execution_count": null,
      "outputs": [
        {
          "output_type": "stream",
          "name": "stdout",
          "text": [
            "Cartesian product of Fuzzy sets F1 and F2 is:\n",
            "[[0.2 0.2 0.2]\n",
            " [0.3 0.5 0.4]\n",
            " [0.3 0.7 0.4]]\n"
          ]
        }
      ]
    },
    {
      "cell_type": "code",
      "source": [
        "# Define Fuzzy sets F1 and F2\n",
        "F1 = {'a': 0.2, 'b': 0.5, 'c': 0.8}\n",
        "F2 = {'a': 0.3, 'b': 0.7, 'c': 0.4}\n",
        "\n",
        "# Union\n",
        "F0 = {}\n",
        "for F1_key, F2_key in zip(F1, F2):\n",
        "    F1_value = F1[F1_key]\n",
        "    F2_value = F2[F2_key]\n",
        "    if F1_value < F2_value:\n",
        "        F0[F1_key] = F2_value\n",
        "    else:\n",
        "        F0[F2_key] = F1_value\n",
        "\n",
        "print(\"Union of Fuzzy Sets F1 and F2:\", F0)\n",
        "\n",
        "# Intersection\n",
        "F0 = {}\n",
        "for F1_key, F2_key in zip(F1, F2):\n",
        "    F1_value = F1[F1_key]\n",
        "    F2_value = F2[F2_key]\n",
        "    if F1_value < F2_value:\n",
        "        F0[F1_key] = F1_value\n",
        "    else:\n",
        "        F0[F2_key] = F2_value\n",
        "\n",
        "print(\"Intersection of Fuzzy Sets F1 and F2:\", F0)\n",
        "\n",
        "# Complement of F1\n",
        "F0 = {}\n",
        "for F1_key in F1:\n",
        "    F0[F1_key] = 1 - F1[F1_key]\n",
        "\n",
        "print(\"Complement of Fuzzy Set F1:\", F0)\n",
        "\n",
        "# Difference\n",
        "F0 = {}\n",
        "for F1_key, F2_key in zip(F1, F2):\n",
        "    F1_value = F1[F1_key]\n",
        "    F2_value = F2[F2_key]\n",
        "    if F1_value < F2_value:\n",
        "        F0[F1_key] = F1_value\n",
        "    else:\n",
        "        F0[F2_key] = F2_value\n",
        "\n",
        "print(\"Difference of Fuzzy Sets F1 and F2:\", F0)\n",
        "\n",
        "# Algebraic Product\n",
        "F0 = {}\n",
        "for F1_key, F2_key in zip(F1, F2):\n",
        "    F1_value = F1[F1_key]\n",
        "    F2_value = F2[F2_key]\n",
        "    F0[F1_key] = F1_value * F2_value\n",
        "\n",
        "print(\"Algebraic Product of Fuzzy Sets F1 and F2:\", F0)\n",
        "\n",
        "# Multiplication of a fuzzy set by a crisp number\n",
        "F0 = {}\n",
        "x = 2\n",
        "for F1_key in F1:\n",
        "    F0[F1_key] = F1[F1_key] * x\n",
        "\n",
        "print(\"Multiplication of Fuzzy Set F1 by crisp number 2:\", F0)\n",
        "\n",
        "# Power of a fuzzy set\n",
        "F0 = {}\n",
        "for F1_key in F1:\n",
        "    F0[F1_key] = F1[F1_key] ** 2\n",
        "\n",
        "print(\"Power of Fuzzy Set F1 (each element squared):\", F0)\n"
      ],
      "metadata": {
        "colab": {
          "base_uri": "https://localhost:8080/"
        },
        "id": "CHBiEyxkMwuc",
        "outputId": "385c6b32-a100-4e27-8cd5-87209f8dd0c8"
      },
      "execution_count": null,
      "outputs": [
        {
          "output_type": "stream",
          "name": "stdout",
          "text": [
            "Union of Fuzzy Sets F1 and F2: {'a': 0.3, 'b': 0.7, 'c': 0.8}\n",
            "Intersection of Fuzzy Sets F1 and F2: {'a': 0.2, 'b': 0.5, 'c': 0.4}\n",
            "Complement of Fuzzy Set F1: {'a': 0.8, 'b': 0.5, 'c': 0.19999999999999996}\n",
            "Difference of Fuzzy Sets F1 and F2: {'a': 0.2, 'b': 0.5, 'c': 0.4}\n",
            "Algebraic Product of Fuzzy Sets F1 and F2: {'a': 0.06, 'b': 0.35, 'c': 0.32000000000000006}\n",
            "Multiplication of Fuzzy Set F1 by crisp number 2: {'a': 0.4, 'b': 1.0, 'c': 1.6}\n",
            "Power of Fuzzy Set F1 (each element squared): {'a': 0.04000000000000001, 'b': 0.25, 'c': 0.6400000000000001}\n"
          ]
        }
      ]
    },
    {
      "cell_type": "code",
      "source": [
        "for F1_key, F2_key in zip(F1, F2):\n",
        "    F1_value = F1[F1_key]\n",
        "    F2_value = F2[F2_key]\n",
        "    F2_value = 1 - F2_value\n",
        "\n",
        "    if F1_value < F2_value:\n",
        "        F0[F1_key] = F1_value\n",
        "    else:\n",
        "        F0[F2_key] = F2_value\n",
        "\n",
        "print(\"Difference of Fuzzy Sets F1 and F2:\", F0)\n"
      ],
      "metadata": {
        "colab": {
          "base_uri": "https://localhost:8080/"
        },
        "id": "JgsmTDgcMy9U",
        "outputId": "5f040085-3ae8-4460-de3f-1ac4a680af76"
      },
      "execution_count": null,
      "outputs": [
        {
          "output_type": "stream",
          "name": "stdout",
          "text": [
            "Difference of Fuzzy Sets F1 and F2: {'a': 0.2, 'b': 0.30000000000000004, 'c': 0.6}\n"
          ]
        }
      ]
    },
    {
      "cell_type": "code",
      "source": [
        "for F1_key, F2_key in zip(F1, F2):\n",
        "    F1_value = F1[F1_key]\n",
        "    F2_value = F2[F2_key]\n",
        "    if F1_value < F2_value:\n",
        "        F0[F1_key] = F1_value\n",
        "    else:\n",
        "        F0[F2_key] = F2_value\n",
        "\n",
        "print(\"Intersection of Fuzzy Sets F1 and F2:\", F0)\n"
      ],
      "metadata": {
        "colab": {
          "base_uri": "https://localhost:8080/"
        },
        "id": "yXyFPm48Mz5a",
        "outputId": "36a458ed-193f-4aab-8254-d5a6d3347f23"
      },
      "execution_count": null,
      "outputs": [
        {
          "output_type": "stream",
          "name": "stdout",
          "text": [
            "Intersection of Fuzzy Sets F1 and F2: {'a': 0.2, 'b': 0.5, 'c': 0.4}\n"
          ]
        }
      ]
    },
    {
      "cell_type": "code",
      "source": [
        "for F1_key in F1:\n",
        "    F0[F1_key] = 1 - F1[F1_key]\n",
        "\n",
        "print(\"Complement of Fuzzy Set F1:\", F0)\n"
      ],
      "metadata": {
        "colab": {
          "base_uri": "https://localhost:8080/"
        },
        "id": "eUKJyWUJM1Ew",
        "outputId": "cc245d52-b9c8-46d3-ad9e-6338c735ec39"
      },
      "execution_count": null,
      "outputs": [
        {
          "output_type": "stream",
          "name": "stdout",
          "text": [
            "Complement of Fuzzy Set F1: {'a': 0.8, 'b': 0.5, 'c': 0.19999999999999996}\n"
          ]
        }
      ]
    },
    {
      "cell_type": "code",
      "source": [
        "for F1_key, F2_key in zip(F1, F2):\n",
        "    F1_value = F1[F1_key]\n",
        "    F2_value = F2[F2_key]\n",
        "    if F1_value < F2_value:\n",
        "        F0[F1_key] = F2_value\n",
        "    else:\n",
        "        F0[F2_key] = F1_value\n",
        "\n",
        "print(\"Union of Fuzzy Sets F1 and F2:\", F0)\n"
      ],
      "metadata": {
        "colab": {
          "base_uri": "https://localhost:8080/"
        },
        "id": "4U68aPBlM2Vm",
        "outputId": "38238e38-d89b-42dd-fe5f-df948de85498"
      },
      "execution_count": null,
      "outputs": [
        {
          "output_type": "stream",
          "name": "stdout",
          "text": [
            "Union of Fuzzy Sets F1 and F2: {'a': 0.3, 'b': 0.7, 'c': 0.8}\n"
          ]
        }
      ]
    },
    {
      "cell_type": "code",
      "source": [
        "for F1_key, F2_key in zip(F1, F2):\n",
        "    F1_value = F1[F1_key]\n",
        "    F2_value = F2[F2_key]\n",
        "    F0[F1_key] = F1_value * F2_value\n",
        "\n",
        "print(F0)\n"
      ],
      "metadata": {
        "colab": {
          "base_uri": "https://localhost:8080/"
        },
        "id": "71JS2sPfM3YR",
        "outputId": "5235fd67-d87d-4918-8fde-e87ddee2cf93"
      },
      "execution_count": null,
      "outputs": [
        {
          "output_type": "stream",
          "name": "stdout",
          "text": [
            "{'a': 0.06, 'b': 0.35, 'c': 0.32000000000000006}\n"
          ]
        }
      ]
    },
    {
      "cell_type": "code",
      "source": [
        "x = 2\n",
        "for F1_key in F1:\n",
        "    F0[F1_key] = F1[F1_key] * x\n",
        "\n",
        "print(F0)\n"
      ],
      "metadata": {
        "colab": {
          "base_uri": "https://localhost:8080/"
        },
        "id": "uOK1cBuBM5PH",
        "outputId": "d7b888bd-d86e-4918-ebf3-c1d91f271022"
      },
      "execution_count": null,
      "outputs": [
        {
          "output_type": "stream",
          "name": "stdout",
          "text": [
            "{'a': 0.4, 'b': 1.0, 'c': 1.6}\n"
          ]
        }
      ]
    },
    {
      "cell_type": "code",
      "source": [
        "for F1_key in F1:\n",
        "    F0[F1_key] = F1[F1_key] ** 2\n",
        "\n",
        "print(F0)\n"
      ],
      "metadata": {
        "colab": {
          "base_uri": "https://localhost:8080/"
        },
        "id": "EGBmuslgM8z9",
        "outputId": "ed727c13-2727-4104-985e-639af194078c"
      },
      "execution_count": null,
      "outputs": [
        {
          "output_type": "stream",
          "name": "stdout",
          "text": [
            "{'a': 0.04000000000000001, 'b': 0.25, 'c': 0.6400000000000001}\n"
          ]
        }
      ]
    },
    {
      "cell_type": "code",
      "source": [
        "def placement_safety(board, row, col):\n",
        "    for i in range(col):\n",
        "        if board[row][i] == 1:\n",
        "            return False\n",
        "    for i, j in zip(range(row, -1, -1), range(col, -1, -1)):\n",
        "        if board[i][j] == 1:\n",
        "            return False\n",
        "    for i, j in zip(range(row, len(board), 1), range(col, -1, -1)):\n",
        "        if board[i][j] == 1:\n",
        "            return False\n",
        "    return True\n",
        "\n",
        "def solution(board, col):\n",
        "    if col >= len(board):\n",
        "        return True\n",
        "    for i in range(len(board)):\n",
        "        if placement_safety(board, i, col):\n",
        "            board[i][col] = 1\n",
        "            if solution(board, col + 1):\n",
        "                return True\n",
        "            board[i][col] = 0\n",
        "    return False\n"
      ],
      "metadata": {
        "id": "fzzy6YZqM_Tz"
      },
      "execution_count": null,
      "outputs": []
    },
    {
      "cell_type": "code",
      "source": [
        "import numpy as np\n",
        "global N\n",
        "N = 8\n",
        "\n",
        "def showResult(board):  # prints the chessboard\n",
        "    for i in range(N):\n",
        "        for j in range(N):\n",
        "            print(int(board[i][j]), end=' ')\n",
        "        print()\n",
        "\n",
        "def placement_safety(board, row, col):\n",
        "    for i in range(col):\n",
        "        if board[row][i] == 1:\n",
        "            return False\n",
        "    for i, j in zip(range(row, -1, -1), range(col, -1, -1)):\n",
        "        if board[i][j] == 1:\n",
        "            return False\n",
        "    for i, j in zip(range(row, N, 1), range(col, -1, -1)):\n",
        "        if board[i][j] == 1:\n",
        "            return False\n",
        "    return True\n",
        "\n",
        "def solution(board, col):\n",
        "    if col >= N:\n",
        "        return True\n",
        "    for i in range(N):\n",
        "        if placement_safety(board, i, col):\n",
        "            board[i][col] = 1\n",
        "            if solution(board, col + 1) == True:\n",
        "                return True\n",
        "            board[i][col] = 0\n",
        "    return False\n",
        "\n",
        "def main_NQ():\n",
        "    board = np.zeros((8, 8))\n",
        "    if solution(board, 0) == False:\n",
        "        print(\"No solution!\")\n",
        "        return False\n",
        "    showResult(board)\n",
        "    # return True\n",
        "\n",
        "main_NQ()\n"
      ],
      "metadata": {
        "colab": {
          "base_uri": "https://localhost:8080/"
        },
        "id": "mUEU0vmTNAjl",
        "outputId": "7c88782d-9e58-4c94-8014-c7ab1574b47c"
      },
      "execution_count": null,
      "outputs": [
        {
          "output_type": "stream",
          "name": "stdout",
          "text": [
            "1 0 0 0 0 0 0 0 \n",
            "0 0 0 0 0 0 1 0 \n",
            "0 0 0 0 1 0 0 0 \n",
            "0 0 0 0 0 0 0 1 \n",
            "0 1 0 0 0 0 0 0 \n",
            "0 0 0 1 0 0 0 0 \n",
            "0 0 0 0 0 1 0 0 \n",
            "0 0 1 0 0 0 0 0 \n"
          ]
        }
      ]
    },
    {
      "cell_type": "code",
      "source": [
        "class Node:\n",
        "    def __init__(self, value):\n",
        "        self.value = value\n",
        "        self.left = None\n",
        "        self.middle = None\n",
        "        self.right = None\n",
        "\n",
        "def addNode(v):\n",
        "    temp = Node(v)\n",
        "    return temp\n",
        "\n",
        "def expectimax(node, is_max):\n",
        "    if node.left == None and node.middle == None and node.right == None:\n",
        "        return node.value\n",
        "    if is_max:\n",
        "        return (expectimax(node.left, False) + expectimax(node.middle, True) + expectimax(node.right, True)) / 3\n",
        "    else:\n",
        "        return max(expectimax(node.left, False), expectimax(node.middle, True), expectimax(node.right, True))\n",
        "\n",
        "# 트리 구성\n",
        "root = addNode(0)\n",
        "root.left = addNode(0)\n",
        "root.middle = addNode(0)\n",
        "root.right = addNode(0)\n",
        "root.left.left = addNode(3)\n",
        "root.left.middle = addNode(12)\n",
        "root.left.right = addNode(8)\n",
        "root.middle.left = addNode(2)\n",
        "root.middle.middle = addNode(4)\n",
        "root.middle.right = addNode(6)\n",
        "root.right.left = addNode(5)\n",
        "root.right.middle = addNode(15)\n",
        "root.right.right = addNode(2)\n",
        "\n",
        "res = expectimax(root, True)\n",
        "print(\"Expectimax value is:\", str(res))\n"
      ],
      "metadata": {
        "colab": {
          "base_uri": "https://localhost:8080/"
        },
        "id": "3Hbt-II0NB3E",
        "outputId": "53686d2a-5084-4550-90cb-9faf97031da7"
      },
      "execution_count": null,
      "outputs": [
        {
          "output_type": "stream",
          "name": "stdout",
          "text": [
            "Expectimax value is: 7.777777777777778\n"
          ]
        }
      ]
    },
    {
      "cell_type": "code",
      "source": [
        "def alphabeta(n, tree, start=root, alpha=None, beta=None):\n",
        "    beta = alpha if alpha < beta else beta\n",
        "    visited += 1\n",
        "    if depth == root:\n",
        "        tree = alpha if root == 0 else beta\n",
        "        visited += 1\n",
        "        return (alpha, beta)\n"
      ],
      "metadata": {
        "id": "PEoWXlHDNFMc"
      },
      "execution_count": null,
      "outputs": []
    },
    {
      "cell_type": "code",
      "source": [
        "!pip install scikit-fuzzy"
      ],
      "metadata": {
        "colab": {
          "base_uri": "https://localhost:8080/"
        },
        "id": "4Rtk71oudXvj",
        "outputId": "a2718e28-1fec-46d2-88f1-6b958c2efbe7"
      },
      "execution_count": null,
      "outputs": [
        {
          "output_type": "stream",
          "name": "stdout",
          "text": [
            "Requirement already satisfied: scikit-fuzzy in /usr/local/lib/python3.10/dist-packages (0.5.0)\n"
          ]
        }
      ]
    },
    {
      "cell_type": "code",
      "source": [
        "import numpy as np\n",
        "import skfuzzy.membership as mf\n",
        "import matplotlib.pyplot as plt\n",
        "\n",
        "x_age = np.arange(0, 101, 1)\n",
        "\n",
        "age_young = mf.trapmf(x_age, [0, 0, 20, 40])\n",
        "age_mid = mf.trapmf(x_age, [30, 40, 50, 60])\n",
        "age_old = mf.trapmf(x_age, [50, 60, 100, 100])\n",
        "\n",
        "fig, ax0 = plt.subplots(nrows=1, figsize=(10, 5))\n",
        "ax0.plot(x_age, age_young, 'r', linewidth=2, label='Young')\n",
        "ax0.plot(x_age, age_mid, 'g', linewidth=2, label='Middle')\n",
        "ax0.plot(x_age, age_old, 'b', linewidth=2, label='Old')\n",
        "ax0.set_title('Age Membership Functions')\n",
        "ax0.legend()\n",
        "ax0.grid()\n"
      ],
      "metadata": {
        "colab": {
          "base_uri": "https://localhost:8080/",
          "height": 468
        },
        "id": "XFbsWnxAMtmC",
        "outputId": "dd99eb52-59c7-42ae-dde5-e129baf8048c"
      },
      "execution_count": null,
      "outputs": [
        {
          "output_type": "display_data",
          "data": {
            "text/plain": [
              "<Figure size 1000x500 with 1 Axes>"
            ],
            "image/png": "[encoded data removed]"
          },
          "metadata": {}
        }
      ]
    },
    {
      "cell_type": "code",
      "source": [
        "import heapq\n",
        "\n",
        "class Node:\n",
        "    def __init__(self, name, heuristic):\n",
        "        self.name = name\n",
        "        self.heuristic = heuristic\n",
        "        self.adjacency_list = []\n",
        "        self.g = float('inf')\n",
        "        self.f = float('inf')\n",
        "        self.parent = None\n",
        "\n",
        "    def __lt__(self, other):\n",
        "        return self.f < other.f\n",
        "\n",
        "def a_star(start_node, goal_node):\n",
        "    open_list = []\n",
        "    closed_list = set()\n",
        "    heapq.heappush(open_list, start_node)\n",
        "    start_node.g = 0\n",
        "    start_node.f = start_node.heuristic\n",
        "\n",
        "    while open_list:\n",
        "        current_node = heapq.heappop(open_list)\n",
        "        if current_node == goal_node:\n",
        "            path = []\n",
        "            while current_node:\n",
        "                path.append(current_node.name)\n",
        "                current_node = current_node.parent\n",
        "            return path[::-1]\n",
        "\n",
        "        closed_list.add(current_node)\n",
        "\n",
        "        for neighbor, cost in current_node.adjacency_list:\n",
        "            if neighbor in closed_list:\n",
        "                continue\n",
        "            tentative_g = current_node.g + cost\n",
        "            if tentative_g < neighbor.g:\n",
        "                neighbor.parent = current_node\n",
        "                neighbor.g = tentative_g\n",
        "                neighbor.f = neighbor.g + neighbor.heuristic\n",
        "                if neighbor not in open_list:\n",
        "                    heapq.heappush(open_list, neighbor)\n",
        "\n",
        "    return None\n",
        "\n",
        "arad = Node(\"Arad\", 366)\n"
      ],
      "metadata": {
        "id": "ZHsI5v2KOOTm"
      },
      "execution_count": null,
      "outputs": []
    },
    {
      "cell_type": "code",
      "source": [
        "import heapq\n",
        "\n",
        "class Node:\n",
        "    def __init__(self, name, heuristic=0):\n",
        "        self.name = name\n",
        "        self.heuristic = heuristic\n",
        "        self.adjacency_list = []\n",
        "        self.parent = None\n",
        "        self.g = float('inf')\n",
        "        self.f = float('inf')\n",
        "\n",
        "    def __lt__(self, other):\n",
        "        return self.f < other.f\n",
        "\n",
        "def a_star(start_node, goal_node):\n",
        "    open_list = []\n",
        "    closed_list = set()\n",
        "    heapq.heappush(open_list, start_node)\n",
        "    start_node.g = 0\n",
        "    start_node.f = start_node.heuristic\n",
        "\n",
        "    while open_list:\n",
        "        current_node = heapq.heappop(open_list)\n",
        "        if current_node == goal_node:\n",
        "            path = []\n",
        "            while current_node:\n",
        "                path.append(current_node.name)\n",
        "                current_node = current_node.parent\n",
        "            return path[::-1]\n",
        "\n",
        "        closed_list.add(current_node)\n",
        "\n",
        "        for neighbor, cost in current_node.adjacency_list:\n",
        "            if neighbor in closed_list:\n",
        "                continue\n",
        "            tentative_g = current_node.g + cost\n",
        "            if tentative_g < neighbor.g:\n",
        "                neighbor.parent = current_node\n",
        "                neighbor.g = tentative_g\n",
        "                neighbor.f = neighbor.g + neighbor.heuristic\n",
        "                if neighbor not in open_list:\n",
        "                    heapq.heappush(open_list, neighbor)\n",
        "\n",
        "    return None\n",
        "\n",
        "# Create nodes\n",
        "arad = Node(\"Arad\", 366)\n",
        "zerind = Node(\"Zerind\", 374)\n",
        "oradea = Node(\"Oradea\", 380)\n",
        "sibiu = Node(\"Sibiu\", 253)\n",
        "fagaras = Node(\"Fagaras\", 176)\n",
        "rimnicu_vilcea = Node(\"Rimnicu Vilcea\", 193)\n",
        "pitesti = Node(\"Pitesti\", 100)\n",
        "timisoara = Node(\"Timisoara\", 329)\n",
        "lugoj = Node(\"Lugoj\", 244)\n",
        "mehadia = Node(\"Mehadia\", 241)\n",
        "dobreta = Node(\"Dobreta\", 242)\n",
        "craiova = Node(\"Craiova\", 160)\n",
        "giurgiu = Node(\"Giurgiu\", 77)\n",
        "bucharest = Node(\"Bucharest\", 0)\n",
        "urziceni = Node(\"Urziceni\", 80)\n",
        "hirsova = Node(\"Hirsova\", 151)\n",
        "eforie = Node(\"Eforie\", 161)\n",
        "vaslui = Node(\"Vaslui\", 199)\n",
        "iasi = Node(\"Iasi\", 226)\n",
        "neamt = Node(\"Neamt\", 234)\n",
        "\n",
        "# Assign adjacency lists\n",
        "arad.adjacency_list = [(zerind, 75), (sibiu, 140), (timisoara, 118)]\n",
        "zerind.adjacency_list = [(arad, 75), (oradea, 71)]\n",
        "oradea.adjacency_list = [(zerind, 71), (sibiu, 151)]\n",
        "sibiu.adjacency_list = [(arad, 140), (oradea, 151), (fagaras, 99), (rimnicu_vilcea, 80)]\n",
        "fagaras.adjacency_list = [(sibiu, 99), (bucharest, 211)]\n",
        "rimnicu_vilcea.adjacency_list = [(sibiu, 80), (pitesti, 97), (craiova, 146)]\n",
        "pitesti.adjacency_list = [(rimnicu_vilcea, 97), (bucharest, 101)]\n",
        "timisoara.adjacency_list = [(arad, 118), (lugoj, 111)]\n",
        "lugoj.adjacency_list = [(timisoara, 111), (mehadia, 70)]\n",
        "mehadia.adjacency_list = [(lugoj, 70), (dobreta, 75)]\n",
        "dobreta.adjacency_list = [(mehadia, 75), (craiova, 120)]\n",
        "craiova.adjacency_list = [(dobreta, 120), (pitesti, 138), (rimnicu_vilcea, 146)]\n",
        "giurgiu.adjacency_list = [(bucharest, 90)]\n",
        "bucharest.adjacency_list = [(fagaras, 211), (pitesti, 101), (giurgiu, 90), (urziceni, 85)]\n",
        "urziceni.adjacency_list = [(bucharest, 85), (hirsova, 98), (vaslui, 142)]\n",
        "hirsova.adjacency_list = [(urziceni, 98), (eforie, 86)]\n",
        "eforie.adjacency_list = [(hirsova, 86)]\n",
        "vaslui.adjacency_list = [(urziceni, 142), (iasi, 92)]\n",
        "iasi.adjacency_list = [(vaslui, 92), (neamt, 87)]\n",
        "neamt.adjacency_list = [(iasi, 87)]\n",
        "\n",
        "path = a_star(arad, bucharest)\n",
        "print(\"Path from Arad to Bucharest:\", path)\n"
      ],
      "metadata": {
        "id": "6fgG0ccieJ1W",
        "outputId": "e100f912-a4c9-41bd-e450-70b820abeb92",
        "colab": {
          "base_uri": "https://localhost:8080/"
        }
      },
      "execution_count": null,
      "outputs": [
        {
          "output_type": "stream",
          "name": "stdout",
          "text": [
            "Path from Arad to Bucharest: ['Arad', 'Sibiu', 'Rimnicu Vilcea', 'Pitesti', 'Bucharest']\n"
          ]
        }
      ]
    },
    {
      "cell_type": "code",
      "source": [
        "# Greedy Search\n",
        "def greedy(graph, H_table, start, goal):\n",
        "    visited = set()\n",
        "    path = []\n",
        "    current_node = start\n",
        "    while current_node != goal:\n",
        "        path.append(current_node)\n",
        "        visited.add(current_node)\n",
        "        neighbors = graph.get(current_node, [])\n",
        "        if not neighbors:  # No path to goal\n",
        "            return None\n",
        "        next_node = min(neighbors, key=lambda x: H_table.get(x[0], float('inf')))\n",
        "        current_node = next_node[0]\n",
        "        if current_node in visited:  # Detected a cycle\n",
        "            return None\n",
        "    path.append(goal)\n",
        "    return path\n",
        "\n",
        "graph = {\n",
        "    'S': [('A', 3), ('B', 2)],\n",
        "    'A': [('C', 4), ('D', 1)],\n",
        "    'B': [('E', 3), ('F', 1)],\n",
        "    'E': [('H', 5)],\n",
        "    'F': [('I', 2), ('G', 3)]\n",
        "}\n",
        "\n",
        "H_table = {\n",
        "    'A': 12,\n",
        "    'B': 7,\n",
        "    'C': 6,\n",
        "    'D': 4,\n",
        "    'E': 7,\n",
        "    'F': 2,\n",
        "    'G': 0,\n",
        "    'I': 1  # Added heuristic value for 'I'\n",
        "}\n",
        "\n",
        "path = greedy(graph, H_table, 'S', 'G')\n",
        "if path:\n",
        "    print(\"The found path:\", \" -> \".join(path))\n",
        "else:\n",
        "    print(\"There is no path!\")"
      ],
      "metadata": {
        "id": "5ZlJ5rJeOZeO",
        "colab": {
          "base_uri": "https://localhost:8080/"
        },
        "outputId": "6abf5a68-8cae-4352-e5f9-674b87298520"
      },
      "execution_count": null,
      "outputs": [
        {
          "output_type": "stream",
          "name": "stdout",
          "text": [
            "The found path: S -> B -> F -> G\n"
          ]
        }
      ]
    },
    {
      "cell_type": "code",
      "source": [
        "import numpy as np\n",
        "global N\n",
        "N=8\n",
        "\n",
        "def showResult(board):\n",
        "  for i in range(N):\n",
        "    for j in range(N):\n",
        "      print(int(board[i][j]), end=' ')\n"
      ],
      "metadata": {
        "id": "quHHx8dGQw7p"
      },
      "execution_count": null,
      "outputs": []
    },
    {
      "cell_type": "code",
      "source": [
        "import numpy as np\n",
        "import matplotlib.pyplot as plt\n",
        "\n",
        "x= np.arange(0,20,0.1)\n",
        "mu_A=1/(1+((x-10)**2))"
      ],
      "metadata": {
        "id": "mLXPnJLsWT_b"
      },
      "execution_count": null,
      "outputs": []
    }
  ]
}